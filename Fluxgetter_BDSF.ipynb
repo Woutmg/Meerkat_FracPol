{
 "cells": [
  {
   "cell_type": "code",
   "execution_count": 1,
   "metadata": {},
   "outputs": [],
   "source": [
    "import numpy as np\n",
    "\n",
    "import matplotlib.pyplot as plt\n",
    "import matplotlib.colors as colors\n",
    "\n",
    "import scipy.constants as c\n",
    "from scipy import stats\n",
    "\n",
    "from photutils.aperture import CircularAperture\n",
    "from photutils.detection import DAOStarFinder\n",
    "from photutils.aperture import aperture_photometry\n",
    "from photutils.aperture import CircularAnnulus\n",
    "\n",
    "from astropy.utils.data import get_pkg_data_filename\n",
    "from astropy.wcs import WCS\n",
    "from astropy import wcs\n",
    "from astropy.io import fits\n",
    "from astropy.stats import sigma_clipped_stats\n",
    "from astropy import units as u\n",
    "\n",
    "import bdsf"
   ]
  },
  {
   "cell_type": "code",
   "execution_count": 4,
   "metadata": {
    "scrolled": true
   },
   "outputs": [
    {
     "name": "stderr",
     "output_type": "stream",
     "text": [
      "\u001B[1;34m--> Opened '/net/vdesk/data2/GoesaertW/Meerkat_Data/Abell_85/Abell_85_Linpol_Freqmean.fits'\u001B[0m\n",
      "Image size .............................. : (3617, 3617) pixels\n",
      "Number of channels ...................... : 1\n",
      "Number of Stokes parameters ............. : 1\n",
      "Beam shape (major, minor, pos angle) .... : (2.14099e-03, 1.97234e-03, -8.2) degrees\n",
      "Frequency of image ...................... : 1283.791 MHz\n",
      "Number of blank pixels .................. : 0 (0.0%)\n",
      "Flux from sum of (non-blank) pixels ..... : 7.511 Jy\n",
      "\u001B[1;34m--> Calculating background rms and mean images\u001B[0m\n",
      "/usr/lib64/python3.10/site-packages/numpy/core/fromnumeric.py:43: VisibleDeprecationWarning: Creating an ndarray from ragged nested sequences (which is a list-or-tuple of lists-or-tuples-or ndarrays with different lengths or shapes) is deprecated. If you meant to do this, you must specify 'dtype=object' when creating the ndarray.\n",
      "  result = getattr(asarray(obj), method)(*args, **kwds)\n",
      "Derived rms_box (box size, step size) ... : (541, 180) pixels\n",
      "\u001B[1;34m--> Variation in rms image significant\u001B[0m\n",
      "\u001B[1;34m--> Using 2D map for background rms\u001B[0m\n",
      "\u001B[1;34m--> Variation in mean image significant\u001B[0m\n",
      "\u001B[1;34m--> Using 2D map for background mean\u001B[0m\n",
      "Min/max values of background rms map .... : (2.20e-06, 1.74e-05) Jy/beam\n",
      "Min/max values of background mean map ... : (1.37e-05, 6.11e-05) Jy/beam\n",
      "\u001B[1;34m--> Expected 5-sigma-clipped false detection rate < fdr_ratio\u001B[0m\n",
      "\u001B[1;34m--> Using sigma-clipping ('hard') thresholding\u001B[0m\n",
      "Minimum number of pixels per island ..... : 14\n",
      "Number of islands found ................. : 216\n"
     ]
    },
    {
     "name": "stdout",
     "output_type": "stream",
     "text": [
      "\u001B[1G\u001B[0mFitting islands with Gaussians .......... : [|-------------------------] 0/216\u001B[0m\u001B[46G\u001B[0m/\u001B[1D\u001B[0m\u001B[0m/\u001B[1D\u001B[0m\u001B[1G\u001B[1G\u001B[0mFitting islands with Gaussians .......... : [/-------------------------] 1/216\u001B[0m\u001B[0mFitting islands with Gaussians .......... : [/-------------------------] 1/216\u001B[0m\u001B[46G\u001B[46G\u001B[0m-\u001B[1D\u001B[0m\u001B[1G\u001B[0mFitting islands with Gaussians .......... : [--------------------------] 2/216\u001B[0m\u001B[0m-\u001B[1D\u001B[0m\u001B[46G\u001B[1G\u001B[0m-\u001B[1D\u001B[0m\u001B[0m/\u001B[1D\u001B[0m\u001B[0mFitting islands with Gaussians .......... : [--------------------------] 2/216\u001B[0m\u001B[1G\u001B[0m\\\u001B[1D\u001B[0m\u001B[0mFitting islands with Gaussians .......... : [/-------------------------] 1/216\u001B[0m\u001B[46G\u001B[46G\u001B[1G\u001B[1G\u001B[0mFitting islands with Gaussians .......... : [--------------------------] 2/216\u001B[0m\u001B[0mFitting islands with Gaussians .......... : [\\-------------------------] 3/216\u001B[0m\u001B[46G\u001B[46G\u001B[0m/\u001B[1D\u001B[0m\u001B[1G\u001B[0mFitting islands with Gaussians .......... : [/-------------------------] 5/216\u001B[0m\u001B[0m\\\u001B[1D\u001B[0m\u001B[46G\u001B[1G\u001B[0mFitting islands with Gaussians .......... : [\\-------------------------] 7/216\u001B[0m\u001B[46G\u001B[0m/\u001B[1D\u001B[0m\u001B[1G\u001B[0mFitting islands with Gaussians .......... : [=/------------------------] 9/216\u001B[0m\u001B[0m/\u001B[1D\u001B[0m\u001B[47G\u001B[1G\u001B[0mFitting islands with Gaussians .......... : [=/------------------------] 9/216\u001B[0m\u001B[47G\u001B[0m\\\u001B[1D\u001B[0m\u001B[1G\u001B[0mFitting islands with Gaussians .......... : [=\\------------------------] 11/216\u001B[0m\u001B[47G\u001B[0m|\u001B[1D\u001B[0m\u001B[1G\u001B[0mFitting islands with Gaussians .......... : [=|------------------------] 12/216\u001B[0m\u001B[47G\u001B[0m/\u001B[1D\u001B[0m\u001B[1G\u001B[0mFitting islands with Gaussians .......... : [=/------------------------] 13/216\u001B[0m\u001B[47G\u001B[0m-\u001B[1D\u001B[0m\u001B[1G\u001B[0mFitting islands with Gaussians .......... : [=-------------------------] 14/216\u001B[0m\u001B[47G\u001B[0m\\\u001B[1D\u001B[0m\u001B[1G\u001B[0mFitting islands with Gaussians .......... : [=\\------------------------] 15/216\u001B[0m\u001B[47G\u001B[0m|\u001B[1D\u001B[0m\u001B[1G\u001B[0mFitting islands with Gaussians .......... : [=|------------------------] 16/216\u001B[0m\u001B[47G\u001B[0m/\u001B[1D\u001B[0m\u001B[1G\u001B[0mFitting islands with Gaussians .......... : [==/-----------------------] 17/216\u001B[0m\u001B[48G\u001B[0m-\u001B[1D\u001B[0m\u001B[1G\u001B[0mFitting islands with Gaussians .......... : [==------------------------] 18/216\u001B[0m\u001B[48G\u001B[0m\\\u001B[1D\u001B[0m\u001B[1G\u001B[0mFitting islands with Gaussians .......... : [==\\-----------------------] 19/216\u001B[0m\u001B[48G"
     ]
    },
    {
     "name": "stderr",
     "output_type": "stream",
     "text": [
      "\u001B[1;34m\n",
      "--> \u001B[31;1mAborted\u001B[0m\u001B[0m\n"
     ]
    },
    {
     "ename": "KeyboardInterrupt",
     "evalue": "",
     "output_type": "error",
     "traceback": [
      "\u001B[0;31m---------------------------------------------------------------------------\u001B[0m",
      "\u001B[0;31mKeyboardInterrupt\u001B[0m                         Traceback (most recent call last)",
      "\u001B[0;32m<ipython-input-4-39994c3b11e7>\u001B[0m in \u001B[0;36m<module>\u001B[0;34m\u001B[0m\n\u001B[1;32m      1\u001B[0m \u001B[0mdirectory_univ_mkt\u001B[0m \u001B[0;34m=\u001B[0m \u001B[0;34mr'/net/vdesk/data2/GoesaertW/Meerkat_Data/Abell_85/'\u001B[0m\u001B[0;34m\u001B[0m\u001B[0;34m\u001B[0m\u001B[0m\n\u001B[0;32m----> 2\u001B[0;31m \u001B[0mimg\u001B[0m \u001B[0;34m=\u001B[0m \u001B[0mbdsf\u001B[0m\u001B[0;34m.\u001B[0m\u001B[0mprocess_image\u001B[0m\u001B[0;34m(\u001B[0m\u001B[0mdirectory_univ_mkt\u001B[0m\u001B[0;34m+\u001B[0m\u001B[0;34m'Abell_85_Linpol_Freqmean.fits'\u001B[0m\u001B[0;34m)\u001B[0m\u001B[0;34m\u001B[0m\u001B[0;34m\u001B[0m\u001B[0m\n\u001B[0m\u001B[1;32m      3\u001B[0m \u001B[0;34m\u001B[0m\u001B[0m\n\u001B[1;32m      4\u001B[0m \u001B[0;34m\u001B[0m\u001B[0m\n\u001B[1;32m      5\u001B[0m \u001B[0;31m# We then define variables containing the subband frequencies\u001B[0m\u001B[0;34m\u001B[0m\u001B[0;34m\u001B[0m\u001B[0m\n",
      "\u001B[0;32m~/.local/lib/python3.10/site-packages/bdsf/__init__.py\u001B[0m in \u001B[0;36mprocess_image\u001B[0;34m(input, **kwargs)\u001B[0m\n\u001B[1;32m    251\u001B[0m     \u001B[0;31m# Now process it. Any kwargs specified by the user will\u001B[0m\u001B[0;34m\u001B[0m\u001B[0;34m\u001B[0m\u001B[0m\n\u001B[1;32m    252\u001B[0m     \u001B[0;31m# override those read in from the parameter save file or dictionary.\u001B[0m\u001B[0;34m\u001B[0m\u001B[0;34m\u001B[0m\u001B[0m\n\u001B[0;32m--> 253\u001B[0;31m     \u001B[0mimg\u001B[0m\u001B[0;34m.\u001B[0m\u001B[0mprocess\u001B[0m\u001B[0;34m(\u001B[0m\u001B[0;34m**\u001B[0m\u001B[0mkwargs\u001B[0m\u001B[0;34m)\u001B[0m\u001B[0;34m\u001B[0m\u001B[0;34m\u001B[0m\u001B[0m\n\u001B[0m\u001B[1;32m    254\u001B[0m     \u001B[0;32mreturn\u001B[0m \u001B[0mimg\u001B[0m\u001B[0;34m\u001B[0m\u001B[0;34m\u001B[0m\u001B[0m\n",
      "\u001B[0;32m~/.local/lib/python3.10/site-packages/bdsf/image.py\u001B[0m in \u001B[0;36mprocess\u001B[0;34m(self, **kwargs)\u001B[0m\n\u001B[1;32m    133\u001B[0m         \u001B[0;34m\"\"\"Process Image object\"\"\"\u001B[0m\u001B[0;34m\u001B[0m\u001B[0;34m\u001B[0m\u001B[0m\n\u001B[1;32m    134\u001B[0m         \u001B[0;32mfrom\u001B[0m \u001B[0;34m.\u001B[0m \u001B[0;32mimport\u001B[0m \u001B[0minterface\u001B[0m\u001B[0;34m\u001B[0m\u001B[0;34m\u001B[0m\u001B[0m\n\u001B[0;32m--> 135\u001B[0;31m         \u001B[0msuccess\u001B[0m \u001B[0;34m=\u001B[0m \u001B[0minterface\u001B[0m\u001B[0;34m.\u001B[0m\u001B[0mprocess\u001B[0m\u001B[0;34m(\u001B[0m\u001B[0mself\u001B[0m\u001B[0;34m,\u001B[0m \u001B[0;34m**\u001B[0m\u001B[0mkwargs\u001B[0m\u001B[0;34m)\u001B[0m\u001B[0;34m\u001B[0m\u001B[0;34m\u001B[0m\u001B[0m\n\u001B[0m\u001B[1;32m    136\u001B[0m         \u001B[0;32mreturn\u001B[0m \u001B[0msuccess\u001B[0m\u001B[0;34m\u001B[0m\u001B[0;34m\u001B[0m\u001B[0m\n\u001B[1;32m    137\u001B[0m \u001B[0;34m\u001B[0m\u001B[0m\n",
      "\u001B[0;32m~/.local/lib/python3.10/site-packages/bdsf/interface.py\u001B[0m in \u001B[0;36mprocess\u001B[0;34m(img, **kwargs)\u001B[0m\n\u001B[1;32m     60\u001B[0m         \u001B[0mimg\u001B[0m\u001B[0;34m,\u001B[0m \u001B[0mop_chain\u001B[0m \u001B[0;34m=\u001B[0m \u001B[0mget_op_chain\u001B[0m\u001B[0;34m(\u001B[0m\u001B[0mimg\u001B[0m\u001B[0;34m)\u001B[0m\u001B[0;34m\u001B[0m\u001B[0;34m\u001B[0m\u001B[0m\n\u001B[1;32m     61\u001B[0m         \u001B[0;32mif\u001B[0m \u001B[0mop_chain\u001B[0m \u001B[0;32mis\u001B[0m \u001B[0;32mnot\u001B[0m \u001B[0;32mNone\u001B[0m\u001B[0;34m:\u001B[0m\u001B[0;34m\u001B[0m\u001B[0;34m\u001B[0m\u001B[0m\n\u001B[0;32m---> 62\u001B[0;31m             \u001B[0m_run_op_list\u001B[0m\u001B[0;34m(\u001B[0m\u001B[0mimg\u001B[0m\u001B[0;34m,\u001B[0m \u001B[0mop_chain\u001B[0m\u001B[0;34m)\u001B[0m\u001B[0;34m\u001B[0m\u001B[0;34m\u001B[0m\u001B[0m\n\u001B[0m\u001B[1;32m     63\u001B[0m             \u001B[0mimg\u001B[0m\u001B[0;34m.\u001B[0m\u001B[0m_prev_opts\u001B[0m \u001B[0;34m=\u001B[0m \u001B[0mimg\u001B[0m\u001B[0;34m.\u001B[0m\u001B[0mopts\u001B[0m\u001B[0;34m.\u001B[0m\u001B[0mto_dict\u001B[0m\u001B[0;34m(\u001B[0m\u001B[0;34m)\u001B[0m\u001B[0;34m\u001B[0m\u001B[0;34m\u001B[0m\u001B[0m\n\u001B[1;32m     64\u001B[0m         \u001B[0;32mreturn\u001B[0m \u001B[0;32mTrue\u001B[0m\u001B[0;34m\u001B[0m\u001B[0;34m\u001B[0m\u001B[0m\n",
      "\u001B[0;32m~/.local/lib/python3.10/site-packages/bdsf/__init__.py\u001B[0m in \u001B[0;36m_run_op_list\u001B[0;34m(img, chain)\u001B[0m\n\u001B[1;32m    150\u001B[0m                 \u001B[0mansw\u001B[0m \u001B[0;34m=\u001B[0m \u001B[0mraw_input_no_history\u001B[0m\u001B[0;34m(\u001B[0m\u001B[0mprompt\u001B[0m\u001B[0;34m)\u001B[0m\u001B[0;34m\u001B[0m\u001B[0;34m\u001B[0m\u001B[0m\n\u001B[1;32m    151\u001B[0m         \u001B[0mop\u001B[0m\u001B[0;34m.\u001B[0m\u001B[0m__start_time\u001B[0m \u001B[0;34m=\u001B[0m \u001B[0mtime\u001B[0m\u001B[0;34m(\u001B[0m\u001B[0;34m)\u001B[0m\u001B[0;34m\u001B[0m\u001B[0;34m\u001B[0m\u001B[0m\n\u001B[0;32m--> 152\u001B[0;31m         \u001B[0mop\u001B[0m\u001B[0;34m(\u001B[0m\u001B[0mimg\u001B[0m\u001B[0;34m)\u001B[0m\u001B[0;34m\u001B[0m\u001B[0;34m\u001B[0m\u001B[0m\n\u001B[0m\u001B[1;32m    153\u001B[0m         \u001B[0mop\u001B[0m\u001B[0;34m.\u001B[0m\u001B[0m__stop_time\u001B[0m \u001B[0;34m=\u001B[0m \u001B[0mtime\u001B[0m\u001B[0;34m(\u001B[0m\u001B[0;34m)\u001B[0m\u001B[0;34m\u001B[0m\u001B[0;34m\u001B[0m\u001B[0m\n\u001B[1;32m    154\u001B[0m         \u001B[0mgc\u001B[0m\u001B[0;34m.\u001B[0m\u001B[0mcollect\u001B[0m\u001B[0;34m(\u001B[0m\u001B[0;34m)\u001B[0m\u001B[0;34m\u001B[0m\u001B[0;34m\u001B[0m\u001B[0m\n",
      "\u001B[0;32m~/.local/lib/python3.10/site-packages/bdsf/gausfit.py\u001B[0m in \u001B[0;36m__call__\u001B[0;34m(self, img)\u001B[0m\n\u001B[1;32m    101\u001B[0m                     itertools.repeat(opts)))\n\u001B[1;32m    102\u001B[0m         \u001B[0;32melse\u001B[0m\u001B[0;34m:\u001B[0m\u001B[0;34m\u001B[0m\u001B[0;34m\u001B[0m\u001B[0m\n\u001B[0;32m--> 103\u001B[0;31m             gaus_list = mp.parallel_map(func.eval_func_tuple,\n\u001B[0m\u001B[1;32m    104\u001B[0m                     zip(itertools.repeat(self.process_island),\n\u001B[1;32m    105\u001B[0m                     \u001B[0mimg\u001B[0m\u001B[0;34m.\u001B[0m\u001B[0mislands\u001B[0m\u001B[0;34m,\u001B[0m \u001B[0mitertools\u001B[0m\u001B[0;34m.\u001B[0m\u001B[0mrepeat\u001B[0m\u001B[0;34m(\u001B[0m\u001B[0mimg_simple\u001B[0m\u001B[0;34m)\u001B[0m\u001B[0;34m,\u001B[0m\u001B[0;34m\u001B[0m\u001B[0;34m\u001B[0m\u001B[0m\n",
      "\u001B[0;32m~/.local/lib/python3.10/site-packages/bdsf/multi_proc.py\u001B[0m in \u001B[0;36mparallel_map\u001B[0;34m(function, sequence, numcores, bar, weights)\u001B[0m\n\u001B[1;32m    228\u001B[0m \u001B[0;34m\u001B[0m\u001B[0m\n\u001B[1;32m    229\u001B[0m     \u001B[0;32mtry\u001B[0m\u001B[0;34m:\u001B[0m\u001B[0;34m\u001B[0m\u001B[0;34m\u001B[0m\u001B[0m\n\u001B[0;32m--> 230\u001B[0;31m         \u001B[0mresults\u001B[0m \u001B[0;34m=\u001B[0m \u001B[0mrun_tasks\u001B[0m\u001B[0;34m(\u001B[0m\u001B[0mprocs\u001B[0m\u001B[0;34m,\u001B[0m \u001B[0merr_q\u001B[0m\u001B[0;34m,\u001B[0m \u001B[0mout_q\u001B[0m\u001B[0;34m,\u001B[0m \u001B[0mlen\u001B[0m\u001B[0;34m(\u001B[0m\u001B[0msequence\u001B[0m\u001B[0;34m)\u001B[0m\u001B[0;34m)\u001B[0m\u001B[0;34m\u001B[0m\u001B[0;34m\u001B[0m\u001B[0m\n\u001B[0m\u001B[1;32m    231\u001B[0m         \u001B[0;32mif\u001B[0m \u001B[0mbar\u001B[0m \u001B[0;32mis\u001B[0m \u001B[0;32mnot\u001B[0m \u001B[0;32mNone\u001B[0m\u001B[0;34m:\u001B[0m\u001B[0;34m\u001B[0m\u001B[0;34m\u001B[0m\u001B[0m\n\u001B[1;32m    232\u001B[0m             \u001B[0;32mif\u001B[0m \u001B[0mbar\u001B[0m\u001B[0;34m.\u001B[0m\u001B[0mstarted\u001B[0m\u001B[0;34m:\u001B[0m\u001B[0;34m\u001B[0m\u001B[0;34m\u001B[0m\u001B[0m\n",
      "\u001B[0;32m~/.local/lib/python3.10/site-packages/bdsf/multi_proc.py\u001B[0m in \u001B[0;36mrun_tasks\u001B[0;34m(procs, err_q, out_q, num)\u001B[0m\n\u001B[1;32m    125\u001B[0m     \u001B[0mresults\u001B[0m\u001B[0;34m=\u001B[0m\u001B[0;34m[\u001B[0m\u001B[0;32mNone\u001B[0m\u001B[0;34m]\u001B[0m\u001B[0;34m*\u001B[0m\u001B[0mnum\u001B[0m\u001B[0;34m;\u001B[0m\u001B[0;34m\u001B[0m\u001B[0;34m\u001B[0m\u001B[0m\n\u001B[1;32m    126\u001B[0m     \u001B[0;32mfor\u001B[0m \u001B[0mi\u001B[0m \u001B[0;32min\u001B[0m \u001B[0mrange\u001B[0m\u001B[0;34m(\u001B[0m\u001B[0mnum\u001B[0m\u001B[0;34m)\u001B[0m\u001B[0;34m:\u001B[0m\u001B[0;34m\u001B[0m\u001B[0;34m\u001B[0m\u001B[0m\n\u001B[0;32m--> 127\u001B[0;31m         \u001B[0midx\u001B[0m\u001B[0;34m,\u001B[0m \u001B[0mresult\u001B[0m \u001B[0;34m=\u001B[0m \u001B[0mout_q\u001B[0m\u001B[0;34m.\u001B[0m\u001B[0mget\u001B[0m\u001B[0;34m(\u001B[0m\u001B[0;34m)\u001B[0m\u001B[0;34m\u001B[0m\u001B[0;34m\u001B[0m\u001B[0m\n\u001B[0m\u001B[1;32m    128\u001B[0m         \u001B[0mresults\u001B[0m\u001B[0;34m[\u001B[0m\u001B[0midx\u001B[0m\u001B[0;34m]\u001B[0m \u001B[0;34m=\u001B[0m \u001B[0mresult\u001B[0m\u001B[0;34m\u001B[0m\u001B[0;34m\u001B[0m\u001B[0m\n\u001B[1;32m    129\u001B[0m \u001B[0;34m\u001B[0m\u001B[0m\n",
      "\u001B[0;32m<string>\u001B[0m in \u001B[0;36mget\u001B[0;34m(self, *args, **kwds)\u001B[0m\n",
      "\u001B[0;32m/usr/lib64/python3.10/multiprocessing/managers.py\u001B[0m in \u001B[0;36m_callmethod\u001B[0;34m(self, methodname, args, kwds)\u001B[0m\n\u001B[1;32m    816\u001B[0m \u001B[0;34m\u001B[0m\u001B[0m\n\u001B[1;32m    817\u001B[0m         \u001B[0mconn\u001B[0m\u001B[0;34m.\u001B[0m\u001B[0msend\u001B[0m\u001B[0;34m(\u001B[0m\u001B[0;34m(\u001B[0m\u001B[0mself\u001B[0m\u001B[0;34m.\u001B[0m\u001B[0m_id\u001B[0m\u001B[0;34m,\u001B[0m \u001B[0mmethodname\u001B[0m\u001B[0;34m,\u001B[0m \u001B[0margs\u001B[0m\u001B[0;34m,\u001B[0m \u001B[0mkwds\u001B[0m\u001B[0;34m)\u001B[0m\u001B[0;34m)\u001B[0m\u001B[0;34m\u001B[0m\u001B[0;34m\u001B[0m\u001B[0m\n\u001B[0;32m--> 818\u001B[0;31m         \u001B[0mkind\u001B[0m\u001B[0;34m,\u001B[0m \u001B[0mresult\u001B[0m \u001B[0;34m=\u001B[0m \u001B[0mconn\u001B[0m\u001B[0;34m.\u001B[0m\u001B[0mrecv\u001B[0m\u001B[0;34m(\u001B[0m\u001B[0;34m)\u001B[0m\u001B[0;34m\u001B[0m\u001B[0;34m\u001B[0m\u001B[0m\n\u001B[0m\u001B[1;32m    819\u001B[0m \u001B[0;34m\u001B[0m\u001B[0m\n\u001B[1;32m    820\u001B[0m         \u001B[0;32mif\u001B[0m \u001B[0mkind\u001B[0m \u001B[0;34m==\u001B[0m \u001B[0;34m'#RETURN'\u001B[0m\u001B[0;34m:\u001B[0m\u001B[0;34m\u001B[0m\u001B[0;34m\u001B[0m\u001B[0m\n",
      "\u001B[0;32m/usr/lib64/python3.10/multiprocessing/connection.py\u001B[0m in \u001B[0;36mrecv\u001B[0;34m(self)\u001B[0m\n\u001B[1;32m    253\u001B[0m         \u001B[0mself\u001B[0m\u001B[0;34m.\u001B[0m\u001B[0m_check_closed\u001B[0m\u001B[0;34m(\u001B[0m\u001B[0;34m)\u001B[0m\u001B[0;34m\u001B[0m\u001B[0;34m\u001B[0m\u001B[0m\n\u001B[1;32m    254\u001B[0m         \u001B[0mself\u001B[0m\u001B[0;34m.\u001B[0m\u001B[0m_check_readable\u001B[0m\u001B[0;34m(\u001B[0m\u001B[0;34m)\u001B[0m\u001B[0;34m\u001B[0m\u001B[0;34m\u001B[0m\u001B[0m\n\u001B[0;32m--> 255\u001B[0;31m         \u001B[0mbuf\u001B[0m \u001B[0;34m=\u001B[0m \u001B[0mself\u001B[0m\u001B[0;34m.\u001B[0m\u001B[0m_recv_bytes\u001B[0m\u001B[0;34m(\u001B[0m\u001B[0;34m)\u001B[0m\u001B[0;34m\u001B[0m\u001B[0;34m\u001B[0m\u001B[0m\n\u001B[0m\u001B[1;32m    256\u001B[0m         \u001B[0;32mreturn\u001B[0m \u001B[0m_ForkingPickler\u001B[0m\u001B[0;34m.\u001B[0m\u001B[0mloads\u001B[0m\u001B[0;34m(\u001B[0m\u001B[0mbuf\u001B[0m\u001B[0;34m.\u001B[0m\u001B[0mgetbuffer\u001B[0m\u001B[0;34m(\u001B[0m\u001B[0;34m)\u001B[0m\u001B[0;34m)\u001B[0m\u001B[0;34m\u001B[0m\u001B[0;34m\u001B[0m\u001B[0m\n\u001B[1;32m    257\u001B[0m \u001B[0;34m\u001B[0m\u001B[0m\n",
      "\u001B[0;32m/usr/lib64/python3.10/multiprocessing/connection.py\u001B[0m in \u001B[0;36m_recv_bytes\u001B[0;34m(self, maxsize)\u001B[0m\n\u001B[1;32m    417\u001B[0m \u001B[0;34m\u001B[0m\u001B[0m\n\u001B[1;32m    418\u001B[0m     \u001B[0;32mdef\u001B[0m \u001B[0m_recv_bytes\u001B[0m\u001B[0;34m(\u001B[0m\u001B[0mself\u001B[0m\u001B[0;34m,\u001B[0m \u001B[0mmaxsize\u001B[0m\u001B[0;34m=\u001B[0m\u001B[0;32mNone\u001B[0m\u001B[0;34m)\u001B[0m\u001B[0;34m:\u001B[0m\u001B[0;34m\u001B[0m\u001B[0;34m\u001B[0m\u001B[0m\n\u001B[0;32m--> 419\u001B[0;31m         \u001B[0mbuf\u001B[0m \u001B[0;34m=\u001B[0m \u001B[0mself\u001B[0m\u001B[0;34m.\u001B[0m\u001B[0m_recv\u001B[0m\u001B[0;34m(\u001B[0m\u001B[0;36m4\u001B[0m\u001B[0;34m)\u001B[0m\u001B[0;34m\u001B[0m\u001B[0;34m\u001B[0m\u001B[0m\n\u001B[0m\u001B[1;32m    420\u001B[0m         \u001B[0msize\u001B[0m\u001B[0;34m,\u001B[0m \u001B[0;34m=\u001B[0m \u001B[0mstruct\u001B[0m\u001B[0;34m.\u001B[0m\u001B[0munpack\u001B[0m\u001B[0;34m(\u001B[0m\u001B[0;34m\"!i\"\u001B[0m\u001B[0;34m,\u001B[0m \u001B[0mbuf\u001B[0m\u001B[0;34m.\u001B[0m\u001B[0mgetvalue\u001B[0m\u001B[0;34m(\u001B[0m\u001B[0;34m)\u001B[0m\u001B[0;34m)\u001B[0m\u001B[0;34m\u001B[0m\u001B[0;34m\u001B[0m\u001B[0m\n\u001B[1;32m    421\u001B[0m         \u001B[0;32mif\u001B[0m \u001B[0msize\u001B[0m \u001B[0;34m==\u001B[0m \u001B[0;34m-\u001B[0m\u001B[0;36m1\u001B[0m\u001B[0;34m:\u001B[0m\u001B[0;34m\u001B[0m\u001B[0;34m\u001B[0m\u001B[0m\n",
      "\u001B[0;32m/usr/lib64/python3.10/multiprocessing/connection.py\u001B[0m in \u001B[0;36m_recv\u001B[0;34m(self, size, read)\u001B[0m\n\u001B[1;32m    382\u001B[0m         \u001B[0mremaining\u001B[0m \u001B[0;34m=\u001B[0m \u001B[0msize\u001B[0m\u001B[0;34m\u001B[0m\u001B[0;34m\u001B[0m\u001B[0m\n\u001B[1;32m    383\u001B[0m         \u001B[0;32mwhile\u001B[0m \u001B[0mremaining\u001B[0m \u001B[0;34m>\u001B[0m \u001B[0;36m0\u001B[0m\u001B[0;34m:\u001B[0m\u001B[0;34m\u001B[0m\u001B[0;34m\u001B[0m\u001B[0m\n\u001B[0;32m--> 384\u001B[0;31m             \u001B[0mchunk\u001B[0m \u001B[0;34m=\u001B[0m \u001B[0mread\u001B[0m\u001B[0;34m(\u001B[0m\u001B[0mhandle\u001B[0m\u001B[0;34m,\u001B[0m \u001B[0mremaining\u001B[0m\u001B[0;34m)\u001B[0m\u001B[0;34m\u001B[0m\u001B[0;34m\u001B[0m\u001B[0m\n\u001B[0m\u001B[1;32m    385\u001B[0m             \u001B[0mn\u001B[0m \u001B[0;34m=\u001B[0m \u001B[0mlen\u001B[0m\u001B[0;34m(\u001B[0m\u001B[0mchunk\u001B[0m\u001B[0;34m)\u001B[0m\u001B[0;34m\u001B[0m\u001B[0;34m\u001B[0m\u001B[0m\n\u001B[1;32m    386\u001B[0m             \u001B[0;32mif\u001B[0m \u001B[0mn\u001B[0m \u001B[0;34m==\u001B[0m \u001B[0;36m0\u001B[0m\u001B[0;34m:\u001B[0m\u001B[0;34m\u001B[0m\u001B[0;34m\u001B[0m\u001B[0m\n",
      "\u001B[0;31mKeyboardInterrupt\u001B[0m: "
     ]
    }
   ],
   "source": [
    "directory_univ_mkt = r'/net/vdesk/data2/GoesaertW/Meerkat_Data/Abell_85/'\n",
    "img = bdsf.process_image(directory_univ_mkt+'Abell_85_Linpol_Freqmean.fits')\n",
    "\n",
    "\n",
    "# We then define variables containing the subband frequencies\n",
    "# Carefull: central frequencies in DR1 paper are wrong\n",
    "freqs_lower = np.zeros(12)\n",
    "freqs_middle = np.zeros(12)\n",
    "freqs_upper = np.zeros(12)\n",
    "\n",
    "for n in range(12):\n",
    "    number = str((4-len(str(n+1)))*'0'+str(n+1))\n",
    "    freqs_lower[n] = I_hdu.header['FREL'+number]\n",
    "    freqs_middle[n] = I_hdu.header['FREQ'+number]\n",
    "    freqs_upper[n] = I_hdu.header['FREH'+number]"
   ]
  }
 ],
 "metadata": {
  "kernelspec": {
   "display_name": "Python 3",
   "language": "python",
   "name": "python3"
  },
  "language_info": {
   "codemirror_mode": {
    "name": "ipython",
    "version": 3
   },
   "file_extension": ".py",
   "mimetype": "text/x-python",
   "name": "python",
   "nbconvert_exporter": "python",
   "pygments_lexer": "ipython3",
   "version": "3.10.2"
  }
 },
 "nbformat": 4,
 "nbformat_minor": 1
}