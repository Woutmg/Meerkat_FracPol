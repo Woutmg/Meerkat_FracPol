{
 "cells": [
  {
   "cell_type": "code",
   "execution_count": 2,
   "outputs": [],
   "source": [
    "import numpy as np\n",
    "import matplotlib.pyplot as plt\n",
    "import matplotlib.colors as colors\n",
    "import matplotlib.cbook as cbook\n",
    "from matplotlib import cm\n",
    "\n",
    "\n",
    "from scipy.optimize import curve_fit\n",
    "\n",
    "from astropy.io import fits\n",
    "import astropy.units as u\n",
    "from astropy.table import Table, Column, hstack, vstack\n",
    "from astropy.utils.data import get_pkg_data_filename\n",
    "from astropy.wcs import WCS\n",
    "from astropy.table import Table\n",
    "from astropy.io import fits"
   ],
   "metadata": {
    "collapsed": false,
    "pycharm": {
     "name": "#%%\n"
    }
   }
  },
  {
   "cell_type": "code",
   "execution_count": 3,
   "outputs": [
    {
     "name": "stderr",
     "output_type": "stream",
     "text": [
      "WARNING: FITSFixedWarning: 'datfix' made the change 'Set MJD-OBS to 58386.000000 from DATE-OBS'. [astropy.wcs.wcs]\n"
     ]
    }
   ],
   "source": [
    "I_hdu = fits.open(get_pkg_data_filename(r'C:\\Users\\woutg\\OneDrive - Universiteit Leiden\\Universiteit Leiden\\Bachelor 3\\BRP\\Meerkat_Data\\Abell 85/Abell_85_aFix_pol_I_Farcsec_fcube_cor.fits'))[0]\n",
    "I_cube = I_hdu.data[0]\n",
    "Q_hdu = fits.open(get_pkg_data_filename(r'C:\\Users\\woutg\\OneDrive - Universiteit Leiden\\Universiteit Leiden\\Bachelor 3\\BRP\\Meerkat_Data\\Abell 85/Abell_85_aFix_pol_Q_Farcsec_fcube_cor.fits'))[0]\n",
    "Q_cube = Q_hdu.data[0]\n",
    "U_hdu = fits.open(get_pkg_data_filename(r'C:\\Users\\woutg\\OneDrive - Universiteit Leiden\\Universiteit Leiden\\Bachelor 3\\BRP\\Meerkat_Data\\Abell 85/Abell_85_aFix_pol_U_Farcsec_fcube_cor.fits'))[0]\n",
    "U_cube = U_hdu.data[0]\n",
    "V_hdu = fits.open(get_pkg_data_filename(r'C:\\Users\\woutg\\OneDrive - Universiteit Leiden\\Universiteit Leiden\\Bachelor 3\\BRP\\Meerkat_Data\\Abell 85/Abell_85_aFix_pol_V_Farcsec_fcube_cor.fits'))[0]\n",
    "V_cube = V_hdu.data[0]\n",
    "\n",
    "I_freqmean = np.nanmean(I_cube, axis=0)\n",
    "Q_freqmean = np.nanmean(Q_cube, axis=0)\n",
    "U_freqmean = np.nanmean(U_cube, axis=0)\n",
    "V_freqmean = np.nanmean(V_cube, axis=0)\n",
    "\n",
    "\n",
    "I_wcs = WCS(I_hdu.header)\n",
    "Q_wcs = WCS(Q_hdu.header)\n",
    "U_wcs = WCS(U_hdu.header)\n",
    "V_wcs = WCS(V_hdu.header)"
   ],
   "metadata": {
    "collapsed": false,
    "pycharm": {
     "name": "#%%\n"
    }
   }
  },
  {
   "cell_type": "code",
   "execution_count": null,
   "outputs": [],
   "source": [
    "linpol_intens_cube = np.sqrt(Q_cube**2+U_cube**2)\n",
    "linpol_intens_freqmean = np.nanmean(linpol_intens_cube, axis=0)\n",
    "\n",
    "plt.figure(figsize=(12,8))\n",
    "plt.subplot(projection=I_wcs, slices=('x', 'y', 0, 0))\n",
    "plt.title('Abell 85 Linear polarization intensity averaged over frequency')\n",
    "plt.imshow(linpol_intens_freqmean.clip(min=0.0000001), cmap='gray', norm=colors.LogNorm())\n",
    "plt.colorbar()\n",
    "plt.savefig('ACO85_Linpol_Freqmean.pdf', dpi=500)"
   ],
   "metadata": {
    "collapsed": false,
    "pycharm": {
     "name": "#%%\n",
     "is_executing": true
    }
   }
  },
  {
   "cell_type": "code",
   "execution_count": null,
   "outputs": [],
   "source": [],
   "metadata": {
    "collapsed": false,
    "pycharm": {
     "name": "#%%\n"
    }
   }
  }
 ],
 "metadata": {
  "kernelspec": {
   "display_name": "Python 3",
   "language": "python",
   "name": "python3"
  },
  "language_info": {
   "codemirror_mode": {
    "name": "ipython",
    "version": 2
   },
   "file_extension": ".py",
   "mimetype": "text/x-python",
   "name": "python",
   "nbconvert_exporter": "python",
   "pygments_lexer": "ipython2",
   "version": "2.7.6"
  }
 },
 "nbformat": 4,
 "nbformat_minor": 0
}