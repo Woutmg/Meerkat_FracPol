{
 "cells": [
  {
   "cell_type": "code",
   "execution_count": 1,
   "metadata": {
    "collapsed": true
   },
   "outputs": [],
   "source": [
    "import numpy as np\n",
    "\n",
    "import matplotlib.pyplot as plt\n",
    "import matplotlib.colors as colors\n",
    "import matplotlib.cbook as cbook\n",
    "from matplotlib import cm\n",
    "\n",
    "from scipy.optimize import curve_fit\n",
    "import scipy.constants as c\n",
    "from scipy import stats\n",
    "\n",
    "from photutils.datasets import load_star_image\n",
    "from photutils.detection import DAOStarFinder\n",
    "from photutils.aperture import CircularAnnulus\n",
    "from photutils.aperture import aperture_photometry\n",
    "\n",
    "from astropy.io import fits\n",
    "import astropy.units as u\n",
    "from astropy.table import Table, Column, hstack, vstack\n",
    "from astropy.utils.data import get_pkg_data_filename\n",
    "from astropy.wcs import WCS\n",
    "from astropy import wcs\n",
    "from astropy.table import Table\n",
    "from astropy.io import fits\n",
    "from astropy.stats import sigma_clipped_stats"
   ]
  },
  {
   "cell_type": "code",
   "execution_count": 3,
   "outputs": [
    {
     "name": "stderr",
     "output_type": "stream",
     "text": [
      "C:\\Users\\woutg\\AppData\\Local\\Temp\\ipykernel_22492\\1720829582.py:20: RuntimeWarning: Mean of empty slice\n",
      "  linpol_intens_freqmean = np.nanmean(linpol_intens_cube, axis=0)\n"
     ]
    }
   ],
   "source": [
    "linpol_intens_cube = np.zeros((90, 2736,2736))\n",
    "\n",
    "dir = r'C:\\Users\\woutg\\OneDrive - Universiteit Leiden\\Universiteit Leiden\\Bachelor 3\\BRP\\VLA_Data'\n",
    "fname_pt2 = r'-image.pbcor.smoothed.fits'\n",
    "\n",
    "for n in range(90):\n",
    "    fname_pt1 = r'G115.16-72.09_'+(4-len(str(n)))*'0'+str(n)\n",
    "\n",
    "    Q_hdu = fits.open(get_pkg_data_filename(dir+ '\\stokes_q\\\\' + fname_pt1+r'-Q'+fname_pt2))\n",
    "    Q_plane = Q_hdu[0].data.squeeze() # drops the size-1 axes\n",
    "\n",
    "    U_hdu = fits.open(get_pkg_data_filename(dir+ '\\stokes_u\\\\' + fname_pt1+r'-U'+fname_pt2))\n",
    "    U_plane = U_hdu[0].data.squeeze() # drops the size-1 axes\n",
    "\n",
    "    linpol_intens_plane = np.sqrt(Q_plane**2+U_plane**2)\n",
    "    linpol_intens_cube[n] = linpol_intens_plane\n",
    "\n",
    "    Q_hdu.close()\n",
    "    U_hdu.close()\n",
    "linpol_intens_freqmean = np.nanmean(linpol_intens_cube, axis=0)\n",
    "Linpol_hdu = fits.PrimaryHDU(linpol_intens_freqmean)\n",
    "Linpol_hdu.writeto(dir + r'\\Abell_85_VLA_Linpol_Freqmean.fits', overwrite=True)"
   ],
   "metadata": {
    "collapsed": false,
    "pycharm": {
     "name": "#%%\n"
    }
   }
  },
  {
   "cell_type": "code",
   "execution_count": null,
   "outputs": [],
   "source": [],
   "metadata": {
    "collapsed": false,
    "pycharm": {
     "name": "#%%\n"
    }
   }
  }
 ],
 "metadata": {
  "kernelspec": {
   "display_name": "Python 3",
   "language": "python",
   "name": "python3"
  },
  "language_info": {
   "codemirror_mode": {
    "name": "ipython",
    "version": 2
   },
   "file_extension": ".py",
   "mimetype": "text/x-python",
   "name": "python",
   "nbconvert_exporter": "python",
   "pygments_lexer": "ipython2",
   "version": "2.7.6"
  }
 },
 "nbformat": 4,
 "nbformat_minor": 0
}