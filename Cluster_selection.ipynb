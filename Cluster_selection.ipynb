{
 "cells": [
  {
   "cell_type": "code",
   "execution_count": 1,
   "metadata": {},
   "outputs": [],
   "source": [
    "import numpy as np\n",
    "import matplotlib.pyplot as plt\n",
    "\n",
    "from scipy.optimize import curve_fit\n",
    "\n",
    "from astropy.io import fits\n",
    "import astropy.units as u\n",
    "from astropy.table import Table, Column, hstack, vstack\n",
    "\n",
    "from astropy.table import Table\n",
    "from astropy.io import fits\n"
   ]
  },
  {
   "cell_type": "code",
   "execution_count": 2,
   "metadata": {
    "pycharm": {
     "name": "#%%\n"
    }
   },
   "outputs": [
    {
     "name": "stdout",
     "output_type": "stream",
     "text": [
      "Cluster Table:\n",
      "XTENSION= 'BINTABLE'           / binary table extension                         BITPIX  =                    8 / array data type                                NAXIS   =                    2 / number of array dimensions                     NAXIS1  =                  315 / length of dimension 1                          NAXIS2  =                  819 / length of dimension 2                          PCOUNT  =                    0 / number of group parameters                     GCOUNT  =                    1 / number of groups                               TFIELDS =                   35 / number of table fields                         TTYPE1  = 'RA      '                                                            TFORM1  = 'D       '                                                            TTYPE2  = 'DEC     '                                                            TFORM2  = 'D       '                                                            TTYPE3  = 'Maj     '                                                            TFORM3  = 'D       '                                                            TTYPE4  = 'Min     '                                                            TFORM4  = 'D       '                                                            TTYPE5  = 'PA      '                                                            TFORM5  = 'D       '                                                            TTYPE6  = 'PolFrac_ExtDepol'                                                    TFORM6  = 'D       '                                                            TTYPE7  = 'PolFrac_ErrNeg_ExtDepol'                                             TFORM7  = 'D       '                                                            TTYPE8  = 'PolFrac_ErrPos_ExtDepol'                                             TFORM8  = 'D       '                                                            TTYPE9  = 'IntrAngl_ExtDepol'                                                   TFORM9  = 'D       '                                                            TTYPE10 = 'IntrAngl_ErrNeg_ExtDepol'                                            TFORM10 = 'D       '                                                            TTYPE11 = 'IntrAngl_ErrPos_ExtDepol'                                            TFORM11 = 'D       '                                                            TTYPE12 = 'RM_ExtDepol'                                                         TFORM12 = 'D       '                                                            TTYPE13 = 'RM_ErrNeg_ExtDepol'                                                  TFORM13 = 'D       '                                                            TTYPE14 = 'RM_ErrPos_ExtDepol'                                                  TFORM14 = 'D       '                                                            TTYPE15 = 'sigmaRM_ExtDepol'                                                    TFORM15 = 'D       '                                                            TTYPE16 = 'sigmaRM_ErrNeg_ExtDepol'                                             TFORM16 = 'D       '                                                            TTYPE17 = 'sigmaRM_ErrPos_ExtDepol'                                             TFORM17 = 'D       '                                                            TTYPE18 = 'I_0_ExtDepol'                                                        TFORM18 = 'D       '                                                            TTYPE19 = 'I_0_ErrNeg_ExtDepol'                                                 TFORM19 = 'D       '                                                            TTYPE20 = 'I_0_ErrPos_ExtDepol'                                                 TFORM20 = 'D       '                                                            TTYPE21 = 'a_ExtDepol'                                                          TFORM21 = 'D       '                                                            TTYPE22 = 'a_ErrNeg_ExtDepol'                                                   TFORM22 = 'D       '                                                            TTYPE23 = 'a_ErrPos_ExtDepol'                                                   TFORM23 = 'D       '                                                            TTYPE24 = 'chi2_QU '                                                            TFORM24 = 'D       '                                                            TTYPE25 = 'bestz   '                                                            TFORM25 = 'D       '                                                            TTYPE26 = 'bestz_err'                                                           TFORM26 = 'D       '                                                            TTYPE27 = 'bestz_source'                                                        TFORM27 = 'D       '                                                            TTYPE28 = 'rnorm   '                                                            TFORM28 = 'D       '                                                            TTYPE29 = 'theta_p '                                                            TFORM29 = 'D       '                                                            TTYPE30 = 'Cluster '                                                            TFORM30 = '13A     '                                                            TTYPE31 = 'ra_opthost'                                                          TFORM31 = 'D       '                                                            TTYPE32 = 'dec_opthost'                                                         TFORM32 = 'D       '                                                            TTYPE33 = 'MultiCompFlag'                                                       TFORM33 = 'L       '                                                            TTYPE34 = 'Flagged '                                                            TFORM34 = 'L       '                                                            TTYPE35 = 'Note    '                                                            TFORM35 = '52A     '                                                            END                                                                                                                                                                                                                                                                                                                                                                                                                                                                                                                                                                                                                                                                                                                                                                                                                                                                                                                                                                                                                                                                                                                                                                                                                                                                                                                                                                                                                                                                                                                                                                                                                                                                                                                                                                                                                                                                                                                                                                                                                                                                                                                                                                                                                                                                                                                                                                                                                                                                                             \n",
      "\n",
      "\n",
      "Source Table:\n",
      "XTENSION= 'BINTABLE'           / binary table extension                         BITPIX  =                    8 / array data type                                NAXIS   =                    2 / number of array dimensions                     NAXIS1  =                  163 / length of dimension 1                          NAXIS2  =                  124 / length of dimension 2                          PCOUNT  =                    0 / number of group parameters                     GCOUNT  =                    1 / number of groups                               TFIELDS =                   12 / number of table fields                         TTYPE1  = 'Cluster '                                                            TFORM1  = '32A     '                                                            TTYPE2  = 'PSZ2 Name'                                                           TFORM2  = '32A     '                                                            TTYPE3  = 'Abell name'                                                          TFORM3  = '32A     '                                                            TTYPE4  = 'cRA     '                                                            TFORM4  = 'D       '                                                            TUNIT4  = 'deg     '                                                            TTYPE5  = 'cDEC    '                                                            TFORM5  = 'D       '                                                            TUNIT5  = 'deg     '                                                            TTYPE6  = 'cz      '                                                            TFORM6  = 'D       '                                                            TTYPE7  = 'pRA     '                                                            TFORM7  = 'D       '                                                            TUNIT7  = 'deg     '                                                            TTYPE8  = 'pDEC    '                                                            TFORM8  = 'D       '                                                            TUNIT8  = 'deg     '                                                            TTYPE9  = 'M500    '                                                            TFORM9  = 'D       '                                                            TUNIT9  = '10**14 solMass'                                                      TTYPE10 = 'R500    '                                                            TFORM10 = 'D       '                                                            TUNIT10 = 'Mpc     '                                                            TTYPE11 = 'DS_CSB  '                                                            TFORM11 = '10A     '                                                            TTYPE12 = 'RadioHalo'                                                           TFORM12 = 'L       '                                                            END                                                                                                                                                                                                                                                                                                                                                                                                                                                                                                                                                                                                                                                                                                                                                                                                                                                                                                                                                                                                                                                                                                                                                                                                                                                                                                                                                                                                                                                                                                                                                                                                                                                                                                                                                                                                                                                                                                                                                                                                                                                                                                                                                                                                                                                                                                                                                                                                                                                                                                                                                                                                                                                                                                                                                                                                                             \n"
     ]
    }
   ],
   "source": [
    "source_table = fits.open(\"publication_table.fits\")[1].data\n",
    "cluster_table = fits.open(\"publication_table_clustercat.fits\")[1].data\n",
    "\n",
    "print(\"Cluster Table:\")\n",
    "print(fits.open(\"publication_table.fits\")[1].header)\n",
    "print(\"\\n\\nSource Table:\")\n",
    "print(fits.open(\"publication_table_clustercat.fits\")[1].header)"
   ]
  },
  {
   "cell_type": "code",
   "execution_count": 3,
   "metadata": {
    "scrolled": true
   },
   "outputs": [
    {
     "ename": "NameError",
     "evalue": "name 'pub_table' is not defined",
     "output_type": "error",
     "traceback": [
      "\u001B[1;31m---------------------------------------------------------------------------\u001B[0m",
      "\u001B[1;31mNameError\u001B[0m                                 Traceback (most recent call last)",
      "Input \u001B[1;32mIn [3]\u001B[0m, in \u001B[0;36m<module>\u001B[1;34m\u001B[0m\n\u001B[1;32m----> 1\u001B[0m sourcecount_frame \u001B[38;5;241m=\u001B[39m np\u001B[38;5;241m.\u001B[39munique(\u001B[43mpub_table\u001B[49m[\u001B[38;5;124m'\u001B[39m\u001B[38;5;124mCluster\u001B[39m\u001B[38;5;124m'\u001B[39m],return_counts\u001B[38;5;241m=\u001B[39m\u001B[38;5;28;01mTrue\u001B[39;00m)\n\u001B[0;32m      2\u001B[0m cluster_PLCKESZclass \u001B[38;5;241m=\u001B[39m sourcecount_frame[\u001B[38;5;241m0\u001B[39m]\n\u001B[0;32m      3\u001B[0m cluster_ABELLclass \u001B[38;5;241m=\u001B[39m cluster_table[\u001B[38;5;124m'\u001B[39m\u001B[38;5;124mAbell name\u001B[39m\u001B[38;5;124m'\u001B[39m]\n",
      "\u001B[1;31mNameError\u001B[0m: name 'pub_table' is not defined"
     ]
    }
   ],
   "source": [
    "sourcecount_frame = np.unique(pub_table['Cluster'],return_counts=True)\n",
    "cluster_PLCKESZclass = sourcecount_frame[0]\n",
    "cluster_ABELLclass = cluster_table['Abell name']\n",
    "cluster_PSZ2class = cluster_table['PSZ2 Name']\n",
    "sourcecounts = sourcecount_frame[1]\n",
    "\n",
    "#print(sourcecounts)\n",
    "print(sourcecounts[55])\n",
    "print(cluster_PLCKESZclass)\n",
    "print(np.where(cluster_PSZ2class == 'G200.9-28.2'))\n",
    "#print(cluster_ABELLclass)\n",
    "print(cluster_PSZ2class)"
   ]
  },
  {
   "cell_type": "code",
   "execution_count": null,
   "outputs": [],
   "source": [],
   "metadata": {
    "collapsed": false,
    "pycharm": {
     "name": "#%%\n"
    }
   }
  }
 ],
 "metadata": {
  "kernelspec": {
   "display_name": "Python 3",
   "language": "python",
   "name": "python3"
  },
  "language_info": {
   "codemirror_mode": {
    "name": "ipython",
    "version": 3
   },
   "file_extension": ".py",
   "mimetype": "text/x-python",
   "name": "python",
   "nbconvert_exporter": "python",
   "pygments_lexer": "ipython3",
   "version": "3.8.8"
  }
 },
 "nbformat": 4,
 "nbformat_minor": 1
}