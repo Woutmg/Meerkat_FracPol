{
 "cells": [
  {
   "cell_type": "code",
   "execution_count": 46,
   "metadata": {},
   "outputs": [],
   "source": [
    "import numpy as np\n",
    "import matplotlib.pyplot as plt\n",
    "\n",
    "from scipy.optimize import curve_fit\n",
    "\n",
    "from astropy.io import fits\n",
    "import astropy.units as u\n",
    "from astropy.table import Table, Column, hstack, vstack\n",
    "\n",
    "from astropy.table import Table\n",
    "from astropy.io import fits\n"
   ]
  },
  {
   "cell_type": "code",
   "execution_count": 70,
   "metadata": {
    "pycharm": {
     "name": "#%%\n"
    }
   },
   "outputs": [
    {
     "name": "stdout",
     "output_type": "stream",
     "text": [
      "Cluster Table:\n",
      "XTENSION= 'BINTABLE'           / binary table extension                         BITPIX  =                    8 / array data type                                NAXIS   =                    2 / number of array dimensions                     NAXIS1  =                  315 / length of dimension 1                          NAXIS2  =                  819 / length of dimension 2                          PCOUNT  =                    0 / number of group parameters                     GCOUNT  =                    1 / number of groups                               TFIELDS =                   35 / number of table fields                         TTYPE1  = 'RA      '                                                            TFORM1  = 'D       '                                                            TTYPE2  = 'DEC     '                                                            TFORM2  = 'D       '                                                            TTYPE3  = 'Maj     '                                                            TFORM3  = 'D       '                                                            TTYPE4  = 'Min     '                                                            TFORM4  = 'D       '                                                            TTYPE5  = 'PA      '                                                            TFORM5  = 'D       '                                                            TTYPE6  = 'PolFrac_ExtDepol'                                                    TFORM6  = 'D       '                                                            TTYPE7  = 'PolFrac_ErrNeg_ExtDepol'                                             TFORM7  = 'D       '                                                            TTYPE8  = 'PolFrac_ErrPos_ExtDepol'                                             TFORM8  = 'D       '                                                            TTYPE9  = 'IntrAngl_ExtDepol'                                                   TFORM9  = 'D       '                                                            TTYPE10 = 'IntrAngl_ErrNeg_ExtDepol'                                            TFORM10 = 'D       '                                                            TTYPE11 = 'IntrAngl_ErrPos_ExtDepol'                                            TFORM11 = 'D       '                                                            TTYPE12 = 'RM_ExtDepol'                                                         TFORM12 = 'D       '                                                            TTYPE13 = 'RM_ErrNeg_ExtDepol'                                                  TFORM13 = 'D       '                                                            TTYPE14 = 'RM_ErrPos_ExtDepol'                                                  TFORM14 = 'D       '                                                            TTYPE15 = 'sigmaRM_ExtDepol'                                                    TFORM15 = 'D       '                                                            TTYPE16 = 'sigmaRM_ErrNeg_ExtDepol'                                             TFORM16 = 'D       '                                                            TTYPE17 = 'sigmaRM_ErrPos_ExtDepol'                                             TFORM17 = 'D       '                                                            TTYPE18 = 'I_0_ExtDepol'                                                        TFORM18 = 'D       '                                                            TTYPE19 = 'I_0_ErrNeg_ExtDepol'                                                 TFORM19 = 'D       '                                                            TTYPE20 = 'I_0_ErrPos_ExtDepol'                                                 TFORM20 = 'D       '                                                            TTYPE21 = 'a_ExtDepol'                                                          TFORM21 = 'D       '                                                            TTYPE22 = 'a_ErrNeg_ExtDepol'                                                   TFORM22 = 'D       '                                                            TTYPE23 = 'a_ErrPos_ExtDepol'                                                   TFORM23 = 'D       '                                                            TTYPE24 = 'chi2_QU '                                                            TFORM24 = 'D       '                                                            TTYPE25 = 'bestz   '                                                            TFORM25 = 'D       '                                                            TTYPE26 = 'bestz_err'                                                           TFORM26 = 'D       '                                                            TTYPE27 = 'bestz_source'                                                        TFORM27 = 'D       '                                                            TTYPE28 = 'rnorm   '                                                            TFORM28 = 'D       '                                                            TTYPE29 = 'theta_p '                                                            TFORM29 = 'D       '                                                            TTYPE30 = 'Cluster '                                                            TFORM30 = '13A     '                                                            TTYPE31 = 'ra_opthost'                                                          TFORM31 = 'D       '                                                            TTYPE32 = 'dec_opthost'                                                         TFORM32 = 'D       '                                                            TTYPE33 = 'MultiCompFlag'                                                       TFORM33 = 'L       '                                                            TTYPE34 = 'Flagged '                                                            TFORM34 = 'L       '                                                            TTYPE35 = 'Note    '                                                            TFORM35 = '52A     '                                                            END                                                                                                                                                                                                                                                                                                                                                                                                                                                                                                                                                                                                                                                                                                                                                                                                                                                                                                                                                                                                                                                                                                                                                                                                                                                                                                                                                                                                                                                                                                                                                                                                                                                                                                                                                                                                                                                                                                                                                                                                                                                                                                                                                                                                                                                                                                                                                                                                                                                                                             \n",
      "\n",
      "\n",
      "Source Table:\n",
      "XTENSION= 'BINTABLE'           / binary table extension                         BITPIX  =                    8 / array data type                                NAXIS   =                    2 / number of array dimensions                     NAXIS1  =                  163 / length of dimension 1                          NAXIS2  =                  124 / length of dimension 2                          PCOUNT  =                    0 / number of group parameters                     GCOUNT  =                    1 / number of groups                               TFIELDS =                   12 / number of table fields                         TTYPE1  = 'Cluster '                                                            TFORM1  = '32A     '                                                            TTYPE2  = 'PSZ2 Name'                                                           TFORM2  = '32A     '                                                            TTYPE3  = 'Abell name'                                                          TFORM3  = '32A     '                                                            TTYPE4  = 'cRA     '                                                            TFORM4  = 'D       '                                                            TUNIT4  = 'deg     '                                                            TTYPE5  = 'cDEC    '                                                            TFORM5  = 'D       '                                                            TUNIT5  = 'deg     '                                                            TTYPE6  = 'cz      '                                                            TFORM6  = 'D       '                                                            TTYPE7  = 'pRA     '                                                            TFORM7  = 'D       '                                                            TUNIT7  = 'deg     '                                                            TTYPE8  = 'pDEC    '                                                            TFORM8  = 'D       '                                                            TUNIT8  = 'deg     '                                                            TTYPE9  = 'M500    '                                                            TFORM9  = 'D       '                                                            TUNIT9  = '10**14 solMass'                                                      TTYPE10 = 'R500    '                                                            TFORM10 = 'D       '                                                            TUNIT10 = 'Mpc     '                                                            TTYPE11 = 'DS_CSB  '                                                            TFORM11 = '10A     '                                                            TTYPE12 = 'RadioHalo'                                                           TFORM12 = 'L       '                                                            END                                                                                                                                                                                                                                                                                                                                                                                                                                                                                                                                                                                                                                                                                                                                                                                                                                                                                                                                                                                                                                                                                                                                                                                                                                                                                                                                                                                                                                                                                                                                                                                                                                                                                                                                                                                                                                                                                                                                                                                                                                                                                                                                                                                                                                                                                                                                                                                                                                                                                                                                                                                                                                                                                                                                                                                                                             \n"
     ]
    }
   ],
   "source": [
    "source_table = fits.open(\"publication_table.fits\")[1].data\n",
    "cluster_table = fits.open(\"publication_table_clustercat.fits\")[1].data\n",
    "\n",
    "print(\"Cluster Table:\")\n",
    "print(fits.open(\"publication_table.fits\")[1].header)\n",
    "print(\"\\n\\nSource Table:\")\n",
    "print(fits.open(\"publication_table_clustercat.fits\")[1].header)"
   ]
  },
  {
   "cell_type": "code",
   "execution_count": 150,
   "metadata": {
    "scrolled": true
   },
   "outputs": [
    {
     "name": "stdout",
     "output_type": "stream",
     "text": [
      "18\n",
      "['G006.47+50.54' 'G021.09+33.25' 'G028.77-33.56' 'G029.00+44.56'\n",
      " 'G033.78+77.16' 'G034.03-76.59' 'G036.72+14.92' 'G039.85-39.98'\n",
      " 'G040.63+77.13' 'G042.82+56.61' 'G044.22+48.68' 'G046.50-49.43'\n",
      " 'G046.88+56.49' 'G048.05+57.17' 'G049.20+30.86' 'G049.33+44.38'\n",
      " 'G049.66-49.50' 'G053.44-36.26' 'G053.52+59.54' 'G055.60+31.86'\n",
      " 'G055.97-34.88' 'G056.81+36.31' 'G057.33+88.01' 'G057.61+34.94'\n",
      " 'G057.92+27.64' 'G058.28+18.59' 'G062.42-46.41' 'G062.92+43.70'\n",
      " 'G067.23+67.46' 'G068.23+15.20' 'G071.61+29.79' 'G072.63+41.46'\n",
      " 'G072.80-18.72' 'G073.96-27.82' 'G075.71+13.51' 'G077.90-26.64'\n",
      " 'G080.38-33.20' 'G080.99-50.90' 'G085.99+26.71' 'G086.45+15.29'\n",
      " 'G087.03-57.37' 'G092.73+73.46' 'G094.01+27.42' 'G094.69+26.34'\n",
      " 'G096.85+52.46' 'G097.73+38.11' 'G098.12+30.30' 'G098.95+24.86'\n",
      " 'G106.73-83.22' 'G107.11+65.31' 'G112.45+57.03' 'G113.82+44.35'\n",
      " 'G114.33+64.87' 'G114.78-33.72' 'G114.99+70.36' 'G115.16-72.09'\n",
      " 'G115.71+17.52' 'G118.60+28.55' 'G121.11+57.01' 'G124.21-36.48'\n",
      " 'G125.58-64.14' 'G125.70+53.85' 'G132.49-17.29' 'G134.73+48.89'\n",
      " 'G139.19+56.35' 'G139.59+24.18' 'G143.24+65.21' 'G146.33-15.59'\n",
      " 'G149.24+54.18' 'G149.55-84.16' 'G149.73+34.69' 'G159.85-73.47'\n",
      " 'G161.44+26.23' 'G163.72+53.53' 'G164.18-38.89' 'G165.08+54.11'\n",
      " 'G166.13+43.39' 'G167.65+17.64' 'G171.94-40.65' 'G172.88+65.32'\n",
      " 'G176.28-35.05' 'G180.62+76.65' 'G182.44-28.29' 'G182.63+55.82'\n",
      " 'G186.39+37.25' 'G195.62+44.05' 'G205.07-62.94' 'G208.59-26.00'\n",
      " 'G208.80-30.67' 'G209.56-36.49' 'G212.97-84.04' 'G218.85+35.50'\n",
      " 'G222.97-65.69' 'G223.91-60.09' 'G226.24+76.76' 'G228.49+53.12'\n",
      " 'G229.21-17.24' 'G229.64+77.96' 'G229.94+15.29' 'G234.59+73.01'\n",
      " 'G239.28+24.76' 'G241.85+51.53' 'G243.57+67.76' 'G244.69+32.49'\n",
      " 'G266.84+25.07' 'G269.51+26.42' 'G273.64+63.28' 'G275.21+43.92'\n",
      " 'G278.60+39.17' 'G280.19+47.81' 'G282.08+54.04' 'G282.49+65.17'\n",
      " 'G285.63+72.72' 'G288.26+39.94' 'G303.75+33.65' 'G304.89+45.45'\n",
      " 'G306.68+61.06' 'G306.80+58.60' 'G312.64+35.09' 'G313.36+61.11'\n",
      " 'G340.37+60.57' 'G340.95+35.11' 'G346.59+35.04' 'G355.07+46.20']\n",
      "(array([], dtype=int64),)\n",
      "['G006.49+50.56' 'G021.10+33.24' 'G028.77-33.56' 'G029.06+44.55'\n",
      " 'G033.81+77.18' 'G033.97-76.61' 'G036.73+14.93' 'G039.85-39.96'\n",
      " 'G040.58+77.12' 'G042.81+56.61' 'G044.20+48.66' 'G046.47-49.44'\n",
      " 'G046.88+56.48' 'G048.10+57.16' 'G049.22+30.87' 'G049.32+44.37'\n",
      " 'G049.69-49.46' 'G053.44-36.25' 'G053.53+59.52' 'G055.59+31.85'\n",
      " 'G055.95-34.89' 'G056.77+36.32' 'G057.80+88.00' 'G057.61+34.93'\n",
      " 'G057.92+27.64' 'G058.29+18.55' 'G062.44-46.43' 'G062.94+43.69'\n",
      " 'G067.17+67.46' 'G068.22+15.18' 'G071.63+29.78' 'G072.62+41.46'\n",
      " 'G072.79-18.73' 'G073.97-27.82' 'G075.71+13.51' 'G077.90-26.63'\n",
      " 'G080.41-33.24' 'G081.00-50.93' 'G085.98+26.69' 'G086.47+15.31'\n",
      " 'G087.03-57.37' 'G092.71+73.46' 'G094.00+27.41' 'G094.69+26.36'\n",
      " 'G096.83+52.49' 'G097.72+38.12' 'G098.10+30.30' 'G098.97+24.86'\n",
      " 'G106.87-83.23' 'G107.10+65.32' 'G112.48+56.99' 'G113.81+44.35'\n",
      " 'G114.31+64.89' 'G114.79-33.71' 'G114.99+70.36' 'G115.25-72.07' 'None'\n",
      " 'G118.58+28.57' 'G121.03+57.02' 'G124.20-36.48' 'G125.68-64.12'\n",
      " 'G125.71+53.86' 'G132.47-17.27' 'G134.70+48.91' 'G139.18+56.37'\n",
      " 'G139.62+24.18' 'G143.26+65.24' 'G146.35-15.59' 'G149.22+54.18'\n",
      " 'G149.63-84.19' 'G149.75+34.68' 'G159.91-73.50' 'G161.39+26.27'\n",
      " 'G163.69+53.52' 'G164.18-38.88' 'G165.06+54.13' 'G166.09+43.38'\n",
      " 'G167.67+17.63' 'G171.98-40.66' 'G172.74+65.30' 'G176.27-35.04'\n",
      " 'G180.60+76.65' 'G182.42-28.28' 'G182.59+55.83' 'G186.37+37.26'\n",
      " 'G195.60+44.06' 'G205.05-62.95' 'G208.60-26.00' 'G208.80-30.67'\n",
      " 'G209.54-36.50' 'G212.82-84.04' 'G218.81+35.51' 'G222.99-65.70'\n",
      " 'G223.93-60.10' 'G226.18+76.79' 'None' 'N/A' 'G229.74+77.96'\n",
      " 'G229.93+15.30' 'G234.59+73.01' 'G239.29+24.75' 'None' 'G243.64+67.74'\n",
      " 'G244.71+32.50' 'N/A' 'N/A' 'G273.59+63.27' 'None' 'N/A' 'N/A'\n",
      " 'G282.12+54.04' 'None' 'G285.63+72.75' 'N/A' 'N/A' 'N/A' 'G306.66+61.06'\n",
      " 'G306.77+58.61' 'N/A' 'G313.33+61.13' 'G340.36+60.58' 'N/A'\n",
      " 'G346.61+35.06' 'G355.07+46.20']\n"
     ]
    }
   ],
   "source": [
    "sourcecount_frame = np.unique(pub_table['Cluster'],return_counts=True)\n",
    "cluster_PLCKESZclass = sourcecount_frame[0]\n",
    "cluster_ABELLclass = cluster_table['Abell name']\n",
    "cluster_PSZ2class = cluster_table['PSZ2 Name']\n",
    "sourcecounts = sourcecount_frame[1]\n",
    "\n",
    "#print(sourcecounts)\n",
    "print(sourcecounts[55])\n",
    "print(cluster_PLCKESZclass)\n",
    "print(np.where(cluster_PSZ2class == 'G200.9-28.2'))\n",
    "#print(cluster_ABELLclass)\n",
    "print(cluster_PSZ2class)"
   ]
  }
 ],
 "metadata": {
  "kernelspec": {
   "display_name": "Python 3",
   "language": "python",
   "name": "python3"
  },
  "language_info": {
   "codemirror_mode": {
    "name": "ipython",
    "version": 3
   },
   "file_extension": ".py",
   "mimetype": "text/x-python",
   "name": "python",
   "nbconvert_exporter": "python",
   "pygments_lexer": "ipython3",
   "version": "3.8.8"
  }
 },
 "nbformat": 4,
 "nbformat_minor": 1
}
